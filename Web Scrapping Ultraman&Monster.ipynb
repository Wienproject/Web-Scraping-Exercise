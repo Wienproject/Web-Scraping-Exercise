{
 "cells": [
  {
   "cell_type": "code",
   "execution_count": 55,
   "metadata": {},
   "outputs": [
    {
     "name": "stdout",
     "output_type": "stream",
     "text": [
      "[{'Ultraman': {'Ultraman': {'01': 'Ultraman', '02': 'Ultra Seven', '03': 'Zoffy', '04': 'Ultraman Jack', '05': 'Ultraman Ace', '06': 'Ultraman Taro', '07': 'Ultraman Leo', '08': 'Ultraman Tiga (Multi-Type)', '09': 'Ultraman Gaia (V2)', '10': 'Ultraman Agul (V2)', '11': 'Ultraman Ginga', '12': 'Jean-Nine', '13': 'Astra', '14': 'Ultraman Dyna (Flash Type)', '15': 'Ultraman 80', '16': 'Ultraman Cosmos (Luna Mode)', '17': 'Ultraman Nexus (Anphans)', '18': 'Ultraman Max', '19': 'Ultraman Mebius', '20': 'Ultraman Hikari', '21': 'Ultraman Zero', '22': 'Ultraman Nice', '23': 'Father of Ultra', '24': 'Ultraman King', '25': 'Ultraman Saga', '26': 'Tiga Dark (Spark Doll)', '27': 'Ultraman Dark (Spark Doll)', '28': 'Ultraman Victory', '29': 'Ultraman Ginga Strium', '30': 'Ultraman Gingavictory', '31': 'Shining Ultraman Zero', '32': 'Ultraman Nexus Junis', '33': 'Ultraman Cosmos Eclipse Mode', '34': 'Ultraman Victory Knight'}}, 'Monster': {'Monster': {'01': 'Alien Baltan', '02': 'Gomora', '03': 'Zetton', '04': 'Zaragas', '05': 'Eleking', '06': 'Alien Godora', '07': 'King Joe', '08': 'Black King', '09': 'Kemur', '10': 'King Pandon', '11': 'Ragon', '12': 'Thunder Darambia', '13': 'Antlar', '14': 'Red King', '15': 'Gavadon (B)', '16': 'Seagorath', '17': 'Bemstar', '18': 'Barabas', '19': 'King Crab', '20': 'Vakishim', '21': 'Doragory', '22': 'Mochiron', '23': 'Alien Magma', '24': 'Salamandra', '25': 'Golza', '26': 'Dark Zagi', '27': 'Jashrine', '28': 'Alien Icarus', '29': 'Alien Guts', '30': 'Snowgon', '31': 'Hanzagiran', '32': 'Giant Yapool', '33': 'Alien Valky', '34': 'Astromons', '35': 'Silvergon', '36': 'Gan-Q (Code No. 1)', '37': 'Ragorath', '38': 'Zoa Muruchi', '39': 'Lobelgar', '40': 'Alien Empera', '41': 'Zamsher', '42': 'Fire Golza', '43': 'Ultraman Belial', '44': 'Hyper Zetton (Imago)', '45': 'Dark Galberos (Spark Doll)', '46': 'Alien Nackle Grey (Spark Doll)', '47': 'Kanegon', '48': 'Alien Miracle', '49': 'Alien Akumania', '50': 'Dorako', '51': 'Telesdon', '52': 'Evil Tiga', '53': 'Super C.O.V', '54': 'Alien Baltan (Basical Version)', '55': 'Miclas', '56': 'Dark Lugiel', '57': 'EX Red King', '58': 'Verokron', '59': 'Twintail', '60': 'Gudon', '61': 'Sadora', '62': 'Melba', '63': 'Reigubas', '64': 'Dino-Tank', '65': 'Bemular', '66': 'Shepherdon', '67': 'Inpelaizer', '68': 'Alien Metron', '69': 'Birdon', '70': 'King Joe Custom (Spark Doll)', '71': 'Aribunta', '72': 'Ace Killer', '73': 'Judah Spectre'}}}]\n",
      "Data saved\n"
     ]
    }
   ],
   "source": [
    "import requests\n",
    "from bs4 import BeautifulSoup\n",
    "\n",
    "web = requests.get('http://www.scifijapan.com/articles/2015/10/04/bandai-ultraman-ultra-500-figure-list/')\n",
    "\n",
    "Out = BeautifulSoup(web.content, 'html.parser')\n",
    "\n",
    "list1=[]\n",
    "for name in Out.find_all('strong'):\n",
    "    list1.append(name.text)\n",
    "    \n",
    "list1=list1[2:110]\n",
    "ultraman=list1[:34]\n",
    "monster=list1[35:]\n",
    "\n",
    "ultraman1=[] #Buat 1 list kosong untuk menyimpan data-data ultraman\n",
    "for i in ultraman: #Buat looping untuk memecah string berdasarkan spasi sebanyak 1 spasi\n",
    "    ultraman1.append(i.split(' ',1))\n",
    "ultraman1= {i[0]:i[1] for i in ultraman1} #Kita format tampilannya\n",
    "Dict_Ultraman={'Ultraman':ultraman1} #Buat dictionary yang berisi list ultraman\n",
    "\n",
    "monster1=[] #Buat 1 list kosong untuk menyimpan data-data monster\n",
    "for i in monster: #Buat looping untuk memecah string berdasarkan spasi sebanyak 1 spasi\n",
    "    monster1.append(i.split(' ',1))\n",
    "monster1= {i[0]:i[1] for i in monster1} #Kita format tampilannya\n",
    "Dict_Monster={'Monster':monster1} #Buat dictionary yang berisi list monster\n",
    "\n",
    "Data_final=[{'Ultraman':Dict_Ultraman,\n",
    "            'Monster':Dict_Monster}]\n",
    "print(Data_final)\n",
    "\n",
    "import json\n",
    "'''Saving a JSON file'''\n",
    "with open('Ultraman ft Monster.json','w') as file:\n",
    "    json.dump(Data_final,file)\n",
    "print ('Data saved')\n",
    "\n",
    "'''Open json file'''\n",
    "with open('Ultraman ft Monster.json', 'r') as file:\n",
    "    out=json.load(file)\n",
    "print(out)\n",
    "print('Data Loaded')"
   ]
  }
 ],
 "metadata": {
  "kernelspec": {
   "display_name": "Python 3",
   "language": "python",
   "name": "python3"
  },
  "language_info": {
   "codemirror_mode": {
    "name": "ipython",
    "version": 3
   },
   "file_extension": ".py",
   "mimetype": "text/x-python",
   "name": "python",
   "nbconvert_exporter": "python",
   "pygments_lexer": "ipython3",
   "version": "3.8.3"
  }
 },
 "nbformat": 4,
 "nbformat_minor": 4
}
